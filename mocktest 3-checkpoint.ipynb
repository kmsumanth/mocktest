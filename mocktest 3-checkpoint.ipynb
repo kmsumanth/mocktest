{
 "cells": [
  {
   "cell_type": "markdown",
   "id": "0636eb29",
   "metadata": {},
   "source": [
    "Implement a stack using a list in Python. Include the necessary methods such as push, pop, and isEmpty."
   ]
  },
  {
   "cell_type": "code",
   "execution_count": 1,
   "id": "765f6e57",
   "metadata": {},
   "outputs": [],
   "source": [
    "class Stack:\n",
    "    def __init__(self):\n",
    "        self.stack = []\n",
    "\n",
    "    def push(self, item):\n",
    "        self.stack.append(item)\n",
    "\n",
    "    def pop(self):\n",
    "        if self.isEmpty():\n",
    "            return None\n",
    "        return self.stack.pop()\n",
    "\n",
    "    def isEmpty(self):\n",
    "        return len(self.stack) == 0"
   ]
  },
  {
   "cell_type": "code",
   "execution_count": 2,
   "id": "ec30d495",
   "metadata": {},
   "outputs": [
    {
     "name": "stdout",
     "output_type": "stream",
     "text": [
      "True\n",
      "False\n",
      "30\n",
      "20\n",
      "10\n",
      "None\n",
      "True\n"
     ]
    }
   ],
   "source": [
    "# Create a new stack\n",
    "my_stack = Stack()\n",
    "\n",
    "# Check if the stack is empty\n",
    "print(my_stack.isEmpty())  # True\n",
    "\n",
    "# Push items onto the stack\n",
    "my_stack.push(10)\n",
    "my_stack.push(20)\n",
    "my_stack.push(30)\n",
    "\n",
    "# Check if the stack is empty\n",
    "print(my_stack.isEmpty())  # False\n",
    "\n",
    "# Pop items from the stack\n",
    "print(my_stack.pop())  # 30\n",
    "print(my_stack.pop())  # 20\n",
    "print(my_stack.pop())  # 10\n",
    "print(my_stack.pop())  # None (stack is empty)\n",
    "\n",
    "# Check if the stack is empty\n",
    "print(my_stack.isEmpty())  # True"
   ]
  },
  {
   "cell_type": "markdown",
   "id": "f94fc047",
   "metadata": {},
   "source": [
    "Implement a queue using a list in Python. Include the necessary methods such as enqueue, dequeue, and isEmpty."
   ]
  },
  {
   "cell_type": "code",
   "execution_count": 3,
   "id": "8fd220b2",
   "metadata": {},
   "outputs": [],
   "source": [
    "class Queue:\n",
    "    def __init__(self):\n",
    "        self.queue = []\n",
    "\n",
    "    def enqueue(self, item):\n",
    "        self.queue.append(item)\n",
    "\n",
    "    def dequeue(self):\n",
    "        if self.isEmpty():\n",
    "            return None\n",
    "        return self.queue.pop(0)\n",
    "\n",
    "    def isEmpty(self):\n",
    "        return len(self.queue) == 0\n"
   ]
  },
  {
   "cell_type": "code",
   "execution_count": 4,
   "id": "a6398909",
   "metadata": {},
   "outputs": [
    {
     "name": "stdout",
     "output_type": "stream",
     "text": [
      "True\n",
      "False\n",
      "10\n",
      "20\n",
      "30\n",
      "None\n",
      "True\n"
     ]
    }
   ],
   "source": [
    "# Create a new queue\n",
    "my_queue = Queue()\n",
    "\n",
    "# Check if the queue is empty\n",
    "print(my_queue.isEmpty())  # True\n",
    "\n",
    "# Enqueue items into the queue\n",
    "my_queue.enqueue(10)\n",
    "my_queue.enqueue(20)\n",
    "my_queue.enqueue(30)\n",
    "\n",
    "# Check if the queue is empty\n",
    "print(my_queue.isEmpty())  # False\n",
    "\n",
    "# Dequeue items from the queue\n",
    "print(my_queue.dequeue())  # 10\n",
    "print(my_queue.dequeue())  # 20\n",
    "print(my_queue.dequeue())  # 30\n",
    "print(my_queue.dequeue())  # None (queue is empty)\n",
    "\n",
    "# Check if the queue is empty\n",
    "print(my_queue.isEmpty())  # True\n"
   ]
  },
  {
   "cell_type": "code",
   "execution_count": null,
   "id": "c6d4cafe",
   "metadata": {},
   "outputs": [],
   "source": []
  }
 ],
 "metadata": {
  "kernelspec": {
   "display_name": "Python 3 (ipykernel)",
   "language": "python",
   "name": "python3"
  },
  "language_info": {
   "codemirror_mode": {
    "name": "ipython",
    "version": 3
   },
   "file_extension": ".py",
   "mimetype": "text/x-python",
   "name": "python",
   "nbconvert_exporter": "python",
   "pygments_lexer": "ipython3",
   "version": "3.10.9"
  }
 },
 "nbformat": 4,
 "nbformat_minor": 5
}
